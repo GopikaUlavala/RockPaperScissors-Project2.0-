{
 "cells": [
  {
   "cell_type": "code",
   "execution_count": 6,
   "id": "a662db08",
   "metadata": {},
   "outputs": [
    {
     "name": "stdout",
     "output_type": "stream",
     "text": [
      "***********Rock Papper and Scissors game*************\n",
      "Enter your name:\n",
      "gopika\n",
      "Enter your name:\n",
      "swathi\n",
      "\n",
      "let's start your game:\n",
      "Enter your choice Among these \n",
      " 1)rock\n",
      " 2)paper\n",
      " 3)scissors\n",
      " \n",
      "gopika\t choose your option:paper\n",
      "\n",
      "swathi\t choose your option:scissors\n",
      "gopika Choosen the paper and swathi choosen the scissors .\n",
      "swathi won the game\n"
     ]
    }
   ],
   "source": [
    "print(\"***********Rock Papper and Scissors game*************\")\n",
    "Player1=str(input(\"Enter your name:\\n\"))\n",
    "Player2=str(input(\"Enter your name:\\n\"))\n",
    "print(\"\\nlet's start your game:\")\n",
    "print(\"Enter your choice Among these \\n 1)rock\\n 2)paper\\n 3)scissors\\n \")\n",
    "p1=str(input(\"{}\\t choose your option:\".format(Player1)))\n",
    "p2=str(input(\"\\n{}\\t choose your option:\".format(Player2)))\n",
    "if(p1==\"rock\" and p2==\"rock\"):\n",
    "    print(\"{0} Choosen the {1} and {2} choosen the {3} .\".format(Player1,p1,Player2,p2))\n",
    "    print(\"draw between the {0} and {1}\".format(Player1,Player2))\n",
    "elif(p1==\"rock\" and p2==\"paper\"):\n",
    "    print(\"{0} Choosen the {1} and {2} choosen the {3} .\".format(Player1,p1,Player2,p2))\n",
    "    print(\"{0} won the game\".format(Player2))\n",
    "elif(p1==\"rock\" and p2==\"scissors\"):\n",
    "    print(\"{0} Choosen the {1} and {2} choosen the {3} .\".format(Player1,p1,Player2,p2))\n",
    "    print(\"{0} won the game\".format(Player1))\n",
    "elif(p1==\"paper\" and p2==\"paper\"):\n",
    "    print(\"{0} Choosen the {1} and {2} choosen the {3} .\".format(Player1,p1,Player2,p2))\n",
    "    print(\"draw between the {0} and {1}\".format(Player1,Player2))\n",
    "elif(p1==\"paper\" and p2==\"rock\"):\n",
    "    print(\"{0} Choosen the {1} and {2} choosen the {3} .\".format(Player1,p1,Player2,p2))\n",
    "    print(\"{0} won the game\".format(Player1))\n",
    "elif(p1==\"paper\" and p2==\"scissors\"):\n",
    "    print(\"{0} Choosen the {1} and {2} choosen the {3} .\".format(Player1,p1,Player2,p2))\n",
    "    print(\"{0} won the game\".format(Player2))\n",
    "elif(p1==\"scissors\" and p2==\"scissors\"):\n",
    "    print(\"{0} Choosen the {1} and {2} choosen the {3} .\".format(Player1,p1,Player2,p2))\n",
    "    print(\"draw between the {0} and {1}\".format(Player1,Player2))\n",
    "elif(p1==\"scissors\" and p2==\"rock\"):\n",
    "    print(\"{0} Choosen the {1} and {2} choosen the {3} .\".format(Player1,p1,Player2,p2))\n",
    "    print(\"{0} won the game\".format(Player2))\n",
    "elif(p1==\"scisors\" and p2==\"paper\"):\n",
    "    print(\"{0} Choosen the {1} and {2} choosen the {3} .\".format(Player1,p1,Player2,p2))\n",
    "    print(\"{0} won the game\".format(Player1))\n",
    "else:\n",
    "    print(\"you entered invalid option Please enter valid option next time\")"
   ]
  },
  {
   "cell_type": "code",
   "execution_count": null,
   "id": "02c654d6",
   "metadata": {},
   "outputs": [],
   "source": []
  }
 ],
 "metadata": {
  "kernelspec": {
   "display_name": "Python 3",
   "language": "python",
   "name": "python3"
  },
  "language_info": {
   "codemirror_mode": {
    "name": "ipython",
    "version": 3
   },
   "file_extension": ".py",
   "mimetype": "text/x-python",
   "name": "python",
   "nbconvert_exporter": "python",
   "pygments_lexer": "ipython3",
   "version": "3.8.8"
  }
 },
 "nbformat": 4,
 "nbformat_minor": 5
}
